{
 "cells": [
  {
   "cell_type": "code",
   "execution_count": null,
   "id": "74eae37c-422b-4ca4-ac8f-efc838ea8f98",
   "metadata": {},
   "outputs": [],
   "source": [
    "Q1. What is Statistics?\n",
    "\n",
    "Statistics is the science of collecting, organizing and analyzing data.\n",
    "Collecting, organizing and analyzing the data help in the decision making process."
   ]
  },
  {
   "cell_type": "code",
   "execution_count": null,
   "id": "4d6949ff-f54a-4b94-8b3c-2b296c9ebb66",
   "metadata": {},
   "outputs": [],
   "source": [
    "Q2. Define the different types of statistics and give an example of when each type might be used.\n",
    "\n",
    "1. Descriptive Statistics: consist of organizing and summarizing the data.\n",
    "a. Measure of central tendency:ex- mean,median & mode\n",
    "b. Measure of dispersion(spread of data): Ex-variance & SD\n",
    "c. Different types of distribution of data: Ex-histogram,probability density function(pdf) & probability mass function(pmf)\n",
    "\n",
    "2. Inferential Statistics: consist of using data we have measured to form conclusion.\n",
    "Ex: we make conclusions about population data from the sample data.\n",
    "a. Hypothesis testing denoted as h1,h0: Ex- z-test,t-test, CHI SQUARE\n",
    "\n",
    "Ex: Lets say there are 20 statistics classes at college and we have collected the heights of students in class.\n",
    "Heights are recorded 175,180,140,140,135,160,135 & 190cm.\n",
    "\n",
    "Descriptive question: What is the average height of entire classroom?\n",
    "Inferential question: Are the height of students in classroom similar to what we expect in the entire college?"
   ]
  },
  {
   "cell_type": "code",
   "execution_count": null,
   "id": "046e482d-0a3f-4a52-96df-f92b3938194e",
   "metadata": {},
   "outputs": [],
   "source": [
    "Q3. What are the different types of data and how do they differ from each other? Provide an example of\n",
    "each type of data.\n",
    "\n",
    "Data is of two types:\n",
    "\n",
    "1. Quantitative Data(numerical data): is further divided into two parts- \n",
    "a. Discrete(a whole number & has specific range). Ex- no. of bank a/cs of a person, no. of children in a family, no. of accidents\n",
    "b. Continuous(canbe of any value). Ex- height, weight,temperature & speed\n",
    "Quantitative variables are numerical variables and perform mathematical operations(+,-,*,/).\n",
    "\n",
    "2. Qualitative Data(categorical data): is further divided into two parts-\n",
    "a. Nominal: In categories there is no rank. Ex: gender(male & female), blood group & pincode\n",
    "b. Ordinal: we assign ranks to categories. Ex: customer feedback(good,better & bad)"
   ]
  },
  {
   "cell_type": "code",
   "execution_count": null,
   "id": "50cb4eec-c905-4c5a-8537-d8380f608552",
   "metadata": {},
   "outputs": [],
   "source": [
    "Q4. Categorise the following datasets with respect to quantitative and qualitative data types:\n",
    "    \n",
    "(i) Grading in exam: A+, A, B+, B, C+, C, D, E---- Ordinal Qualitative Data\n",
    "(ii) Colour of mangoes: yellow, green, orange, red---- Nominal Qualitative Data\n",
    "(iii) Height data of a class: [178.9, 179, 179.5, 176, 177.2, 178.3, 175.8,...]---- Continuous Quantitative Data\n",
    "(iv) Number of mangoes exported by a farm: [500, 600, 478, 672, ...]---- Discrete Quantitative Data"
   ]
  },
  {
   "cell_type": "code",
   "execution_count": null,
   "id": "4bc58cbb-fb52-4e92-bfaf-dbcf66d2db8d",
   "metadata": {},
   "outputs": [],
   "source": [
    "Q5. Explain the concept of levels of measurement and give an example of a variable for each level.\n",
    "\n",
    "Scale of measurement:  \n",
    "    \n",
    "1. Nominal scale data: consist of qualitative/categorical data. Ex- gender,colors & labels.\n",
    "In this, order doesn't matter. Ex-favourite color(red,blue,green)\n",
    "\n",
    "2. Ordinal scale data: In this, ranking is important and order matters and difference cannot be measured.\n",
    "Ex- good(2 rank),better(3 rank),best(1 rank)\n",
    "\n",
    "3. Interval scale data: The order matters, difference canbe measured, ratio cannot be measured & no such zero starting points.\n",
    "Ex- temperature variable: 30F,60F,90F,120F\n",
    "\n",
    "4. Ratio scale data: order matters, differences are measurable including ratios & contains a zero starting points.\n",
    "Ex- students' marks in class: 0,60,30,75,40,50,90"
   ]
  },
  {
   "cell_type": "code",
   "execution_count": null,
   "id": "4b10341f-c127-4567-97f9-67b2b5da4ecb",
   "metadata": {},
   "outputs": [],
   "source": [
    "Q6. Why is it important to understand the level of measurement when analyzing data? Provide an\n",
    "example to illustrate your answer.\n",
    "\n",
    "Understanding the level of measurement of data is important because it helps determine how to \n",
    "interpret the data, what statistical analysis is appropriate, and how to present the findings. \n",
    "The level of measurement also helps identify how data was collected, such as qualitative or quantitative, \n",
    "and what type of statistical tests can be used.\n",
    "Ex- If a measure is nominal, then we know that we would never average the data values or do a t-test on the data."
   ]
  },
  {
   "cell_type": "code",
   "execution_count": null,
   "id": "54e57633-8fea-4c18-a76f-4232e7d0a91e",
   "metadata": {},
   "outputs": [],
   "source": [
    "Q7. How nominal data type is different from ordinal data type?\n",
    "\n",
    "Ranked order: Ordinal data can be ranked or ordered, while nominal data has no ranked order or hierarchy.\n",
    "\n",
    "Quantitative value: Nominal data does not provide any quantitative value, while ordinal data is considered \n",
    "“in-between” qualitative and quantitative data.\n",
    "\n",
    "Numeric operations: Nominal data cannot be ordered and cannot be measured, while ordinal data provides\n",
    "sequence and it is possible to assign numbers to the data.\n",
    "\n",
    "Analysis: Ordinal data is analyzed by mode, median, quartiles, and percentile, whereas nominal data is \n",
    "analyzed by grouping variables into categories and calculating the distribution mode."
   ]
  },
  {
   "cell_type": "code",
   "execution_count": null,
   "id": "dae164ef-c3cb-4317-b703-b8b046934e9b",
   "metadata": {},
   "outputs": [],
   "source": [
    "Q8. Which type of plot can be used to display data in terms of range?\n",
    "\n",
    "Histograms are used in statistics, business and economics where numerical data plays a crucial role. \n",
    "A typical histogram looks like a bar chart. However, a bar chart provides comparisons of fixed values\n",
    "of a category, while in a histogram, each bar represents a range of value such as age in the range \n",
    "of 25-40. Histograms are generally used to summarise big data."
   ]
  },
  {
   "cell_type": "code",
   "execution_count": null,
   "id": "bc53ede0-6258-4888-9a62-caf918f0674a",
   "metadata": {},
   "outputs": [],
   "source": [
    "Q9. Describe the difference between descriptive and inferential statistics. Give an example of each\n",
    "type of statistics and explain how they are used.\n",
    "\n",
    "1. Descriptive Statistics: consist of organizing and summarizing the data.\n",
    "a. Measure of central tendency:ex- mean,median & mode\n",
    "b. Measure of dispersion(spread of data): Ex-variance & SD\n",
    "c. Different types of distribution of data: Ex-histogram,probability density function(pdf) \n",
    "& probability mass function(pmf)\n",
    "\n",
    "2. Inferential Statistics: consist of using data we have measured to form conclusion.\n",
    "Ex: we make conclusions about population data from the sample data.\n",
    "a. Hypothesis testing denoted as h1,h0: Ex- z-test,t-test, CHI SQUARE\n",
    "\n",
    "Ex: A researcher wants to know the average height of all adult males in the United States. \n",
    "The researcher collects a sample of 100 adult males and measures their heights. The researcher then \n",
    "uses descriptive statistics to calculate the mean height of the sample. The researcher can then use \n",
    "inferential statistics to estimate the mean height of all adult males in the United States.\n",
    "In this example, the descriptive statistic is the mean height of the sample. The inferential statistic \n",
    "is the estimate of the mean height of all adult males in the United States."
   ]
  },
  {
   "cell_type": "code",
   "execution_count": null,
   "id": "22622d69-0de8-4894-a72b-48c578329a1d",
   "metadata": {},
   "outputs": [],
   "source": [
    "Q10. What are some common measures of central tendency and variability used in statistics? Explain\n",
    "how each measure can be used to describe a dataset.\n",
    "\n",
    "Measures of Central Tendency:\n",
    "\n",
    "a. Mean or average: we see mean from 2 perspectives- population mean(N) and sample mean(n).\n",
    "b. Median: sort the random variables, count no. of elements(if no. of elements=even then median is average of both numbers and\n",
    "if no. of elements=odd then central no. is median)\n",
    "c. Mode: maximum frequency\n",
    "Mode works better for categorical features.\n",
    "\n",
    "Variability is most commonly measured with the following descriptive statistics:\n",
    "\n",
    "a. Range: the difference between the highest and lowest values\n",
    "b. Interquartile range: the range of the middle half of a distribution\n",
    "c. Standard deviation: average distance from the mean\n",
    "d. Variance: average of squared distances from the mean"
   ]
  }
 ],
 "metadata": {
  "kernelspec": {
   "display_name": "Python 3 (ipykernel)",
   "language": "python",
   "name": "python3"
  },
  "language_info": {
   "codemirror_mode": {
    "name": "ipython",
    "version": 3
   },
   "file_extension": ".py",
   "mimetype": "text/x-python",
   "name": "python",
   "nbconvert_exporter": "python",
   "pygments_lexer": "ipython3",
   "version": "3.10.8"
  }
 },
 "nbformat": 4,
 "nbformat_minor": 5
}
